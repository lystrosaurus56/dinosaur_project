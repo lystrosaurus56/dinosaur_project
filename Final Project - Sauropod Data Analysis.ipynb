{
 "cells": [
  {
   "cell_type": "markdown",
   "metadata": {},
   "source": [
    "## Overview\n",
    "\n",
    "For my final Codecademy data analysis project, I wanted to work with data about dinosaurs. In this project, I used data from the 2020 publication *Ten more years of discovery: revisiting the quality of the sauropodomorph dinosaur fossil record* available on [Dryad](https://datadryad.org/stash/dataset/doi:10.5061%2Fdryad.6hdr7sqxb).\n",
    "\n",
    "This dataset collects information regarding 305 individual species of sauropodomorphs (long-necked dinosaurs and their relatives), including geographic location, size, and age of fossil. The information comes from 1144 individual specimens, and the paper is mainly looking at how complete each fossil is. \n",
    "\n",
    "For my analysis, I'll mostly be looking at the summary information as well as the information on each individual fossil. The initial questions I'll try to answer are:\n",
    "\n",
    "- How did size and diversity of sauropodomorphs change throughout the Mezozoic Era?\n",
    "- Which clades of sauropodomorphs do we have the most fossil specimens of?\n",
    "- Has the rate of discovery of species increased or decreased since we identified the first sauropodomorph?\n",
    "- Where did the oldest sauropodomorphs live, and how did they spread across the globe?\n",
    "- What bones are the most likely to fossilize, based on the fossil specimens we have found so far?"
   ]
  },
  {
   "cell_type": "markdown",
   "metadata": {},
   "source": [
    "## Importing and Examining the Cleaned Data\n",
    "\n",
    "I already cleaned and re-exported the data as cleaned csvs in the file Final Project - Sauropod Data Cleaning. Like I did in that project, I'll start by importing some common libraries for data analysis and visualization. Then, I'll import the cleaned data.\n",
    "\n",
    "I have already removed excess columns from the data and checked for null and duplicate values, so it should be pretty clean. However, I want to take another look to make sure there's nothing I missed, especially with the summary_df since that contains many categorical variables."
   ]
  },
  {
   "cell_type": "code",
   "execution_count": 1,
   "metadata": {},
   "outputs": [],
   "source": [
    "import pandas as pd\n",
    "import numpy as np\n",
    "import matplotlib.pyplot as plt\n",
    "import seaborn as sns"
   ]
  },
  {
   "cell_type": "code",
   "execution_count": 2,
   "metadata": {},
   "outputs": [],
   "source": [
    "summary_df = pd.read_csv('summary_df.csv')\n",
    "completeness_df = pd.read_csv('completeness_df.csv')"
   ]
  },
  {
   "cell_type": "code",
   "execution_count": 3,
   "metadata": {},
   "outputs": [
    {
     "data": {
      "text/html": [
       "<div>\n",
       "<style scoped>\n",
       "    .dataframe tbody tr th:only-of-type {\n",
       "        vertical-align: middle;\n",
       "    }\n",
       "\n",
       "    .dataframe tbody tr th {\n",
       "        vertical-align: top;\n",
       "    }\n",
       "\n",
       "    .dataframe thead th {\n",
       "        text-align: right;\n",
       "    }\n",
       "</style>\n",
       "<table border=\"1\" class=\"dataframe\">\n",
       "  <thead>\n",
       "    <tr style=\"text-align: right;\">\n",
       "      <th></th>\n",
       "      <th>main_clade</th>\n",
       "      <th>sub_clade</th>\n",
       "      <th>taxa</th>\n",
       "      <th>year_found</th>\n",
       "      <th>completeness</th>\n",
       "      <th>hemisphere</th>\n",
       "      <th>continent</th>\n",
       "      <th>country</th>\n",
       "      <th>mod_lat</th>\n",
       "      <th>paleo_lat</th>\n",
       "      <th>period</th>\n",
       "      <th>epoch</th>\n",
       "      <th>max_ma</th>\n",
       "      <th>min_ma</th>\n",
       "      <th>body_mass_est</th>\n",
       "    </tr>\n",
       "  </thead>\n",
       "  <tbody>\n",
       "    <tr>\n",
       "      <th>0</th>\n",
       "      <td>Sauropodomorph</td>\n",
       "      <td>Sauropodomorph</td>\n",
       "      <td>Aardonyx celestae</td>\n",
       "      <td>2010.0</td>\n",
       "      <td>32.673313</td>\n",
       "      <td>S</td>\n",
       "      <td>Africa</td>\n",
       "      <td>South Africa</td>\n",
       "      <td>-28.466389</td>\n",
       "      <td>-42.64</td>\n",
       "      <td>Jurassic</td>\n",
       "      <td>Early</td>\n",
       "      <td>201.3</td>\n",
       "      <td>190.8</td>\n",
       "      <td>NaN</td>\n",
       "    </tr>\n",
       "    <tr>\n",
       "      <th>1</th>\n",
       "      <td>Sauropodomorph</td>\n",
       "      <td>Sauropodomorph</td>\n",
       "      <td>Adeopapposaurus mognai</td>\n",
       "      <td>2009.0</td>\n",
       "      <td>91.525000</td>\n",
       "      <td>S</td>\n",
       "      <td>South America</td>\n",
       "      <td>Argentina</td>\n",
       "      <td>-30.500000</td>\n",
       "      <td>-33.25</td>\n",
       "      <td>Jurassic</td>\n",
       "      <td>Early</td>\n",
       "      <td>201.3</td>\n",
       "      <td>174.1</td>\n",
       "      <td>39.600177</td>\n",
       "    </tr>\n",
       "    <tr>\n",
       "      <th>2</th>\n",
       "      <td>Sauropodomorph</td>\n",
       "      <td>Sauropodomorph</td>\n",
       "      <td>Ammosaurus major</td>\n",
       "      <td>1891.0</td>\n",
       "      <td>43.220083</td>\n",
       "      <td>N</td>\n",
       "      <td>North America</td>\n",
       "      <td>USA</td>\n",
       "      <td>41.809765</td>\n",
       "      <td>23.50</td>\n",
       "      <td>Jurassic</td>\n",
       "      <td>Early</td>\n",
       "      <td>201.3</td>\n",
       "      <td>190.8</td>\n",
       "      <td>235.601348</td>\n",
       "    </tr>\n",
       "    <tr>\n",
       "      <th>3</th>\n",
       "      <td>Sauropodomorph</td>\n",
       "      <td>Sauropodomorph</td>\n",
       "      <td>Anchisaurus polyzelus</td>\n",
       "      <td>1885.0</td>\n",
       "      <td>44.055667</td>\n",
       "      <td>N</td>\n",
       "      <td>North America</td>\n",
       "      <td>USA</td>\n",
       "      <td>42.100000</td>\n",
       "      <td>23.80</td>\n",
       "      <td>Jurassic</td>\n",
       "      <td>Early</td>\n",
       "      <td>201.3</td>\n",
       "      <td>190.8</td>\n",
       "      <td>NaN</td>\n",
       "    </tr>\n",
       "    <tr>\n",
       "      <th>4</th>\n",
       "      <td>Sauropodomorph</td>\n",
       "      <td>Sauropodomorph</td>\n",
       "      <td>Arcusaurus pereirabdalorum</td>\n",
       "      <td>2011.0</td>\n",
       "      <td>3.387333</td>\n",
       "      <td>S</td>\n",
       "      <td>Africa</td>\n",
       "      <td>South Africa</td>\n",
       "      <td>-28.466667</td>\n",
       "      <td>-42.64</td>\n",
       "      <td>Jurassic</td>\n",
       "      <td>Early</td>\n",
       "      <td>201.3</td>\n",
       "      <td>190.8</td>\n",
       "      <td>NaN</td>\n",
       "    </tr>\n",
       "  </tbody>\n",
       "</table>\n",
       "</div>"
      ],
      "text/plain": [
       "       main_clade       sub_clade                        taxa  year_found  \\\n",
       "0  Sauropodomorph  Sauropodomorph           Aardonyx celestae      2010.0   \n",
       "1  Sauropodomorph  Sauropodomorph      Adeopapposaurus mognai      2009.0   \n",
       "2  Sauropodomorph  Sauropodomorph            Ammosaurus major      1891.0   \n",
       "3  Sauropodomorph  Sauropodomorph       Anchisaurus polyzelus      1885.0   \n",
       "4  Sauropodomorph  Sauropodomorph  Arcusaurus pereirabdalorum      2011.0   \n",
       "\n",
       "   completeness hemisphere      continent       country    mod_lat  paleo_lat  \\\n",
       "0     32.673313          S         Africa  South Africa -28.466389     -42.64   \n",
       "1     91.525000          S  South America     Argentina -30.500000     -33.25   \n",
       "2     43.220083          N  North America           USA  41.809765      23.50   \n",
       "3     44.055667          N  North America           USA  42.100000      23.80   \n",
       "4      3.387333          S         Africa  South Africa -28.466667     -42.64   \n",
       "\n",
       "     period  epoch  max_ma  min_ma  body_mass_est  \n",
       "0  Jurassic  Early   201.3   190.8            NaN  \n",
       "1  Jurassic  Early   201.3   174.1      39.600177  \n",
       "2  Jurassic  Early   201.3   190.8     235.601348  \n",
       "3  Jurassic  Early   201.3   190.8            NaN  \n",
       "4  Jurassic  Early   201.3   190.8            NaN  "
      ]
     },
     "execution_count": 3,
     "metadata": {},
     "output_type": "execute_result"
    }
   ],
   "source": [
    "summary_df.head()"
   ]
  },
  {
   "cell_type": "code",
   "execution_count": 4,
   "metadata": {},
   "outputs": [
    {
     "data": {
      "text/html": [
       "<div>\n",
       "<style scoped>\n",
       "    .dataframe tbody tr th:only-of-type {\n",
       "        vertical-align: middle;\n",
       "    }\n",
       "\n",
       "    .dataframe tbody tr th {\n",
       "        vertical-align: top;\n",
       "    }\n",
       "\n",
       "    .dataframe thead th {\n",
       "        text-align: right;\n",
       "    }\n",
       "</style>\n",
       "<table border=\"1\" class=\"dataframe\">\n",
       "  <thead>\n",
       "    <tr style=\"text-align: right;\">\n",
       "      <th></th>\n",
       "      <th>taxa</th>\n",
       "      <th>skull</th>\n",
       "      <th>vertebrae</th>\n",
       "      <th>ribs</th>\n",
       "      <th>pectorals</th>\n",
       "      <th>forelimb</th>\n",
       "      <th>pelvis</th>\n",
       "      <th>hindlimb</th>\n",
       "      <th>total</th>\n",
       "    </tr>\n",
       "  </thead>\n",
       "  <tbody>\n",
       "    <tr>\n",
       "      <th>0</th>\n",
       "      <td>Aardonyx celestae</td>\n",
       "      <td>0.100000</td>\n",
       "      <td>0.0</td>\n",
       "      <td>0.0000</td>\n",
       "      <td>0.0</td>\n",
       "      <td>0.0</td>\n",
       "      <td>0.0</td>\n",
       "      <td>0.00</td>\n",
       "      <td>0.100000</td>\n",
       "    </tr>\n",
       "    <tr>\n",
       "      <th>1</th>\n",
       "      <td>Aardonyx celestae</td>\n",
       "      <td>0.133333</td>\n",
       "      <td>0.2</td>\n",
       "      <td>0.0000</td>\n",
       "      <td>0.0</td>\n",
       "      <td>3.0</td>\n",
       "      <td>0.0</td>\n",
       "      <td>0.25</td>\n",
       "      <td>3.583333</td>\n",
       "    </tr>\n",
       "    <tr>\n",
       "      <th>2</th>\n",
       "      <td>Aardonyx celestae</td>\n",
       "      <td>0.000000</td>\n",
       "      <td>10.0</td>\n",
       "      <td>0.1875</td>\n",
       "      <td>0.0</td>\n",
       "      <td>0.0</td>\n",
       "      <td>0.0</td>\n",
       "      <td>0.00</td>\n",
       "      <td>10.187500</td>\n",
       "    </tr>\n",
       "    <tr>\n",
       "      <th>3</th>\n",
       "      <td>Aardonyx celestae</td>\n",
       "      <td>0.000000</td>\n",
       "      <td>0.0</td>\n",
       "      <td>0.1875</td>\n",
       "      <td>0.0</td>\n",
       "      <td>0.0</td>\n",
       "      <td>0.0</td>\n",
       "      <td>0.00</td>\n",
       "      <td>0.187500</td>\n",
       "    </tr>\n",
       "    <tr>\n",
       "      <th>4</th>\n",
       "      <td>Aardonyx celestae</td>\n",
       "      <td>0.000000</td>\n",
       "      <td>0.0</td>\n",
       "      <td>0.1875</td>\n",
       "      <td>0.0</td>\n",
       "      <td>0.0</td>\n",
       "      <td>0.0</td>\n",
       "      <td>0.00</td>\n",
       "      <td>0.187500</td>\n",
       "    </tr>\n",
       "  </tbody>\n",
       "</table>\n",
       "</div>"
      ],
      "text/plain": [
       "                taxa     skull  vertebrae    ribs  pectorals  forelimb  \\\n",
       "0  Aardonyx celestae  0.100000        0.0  0.0000        0.0       0.0   \n",
       "1  Aardonyx celestae  0.133333        0.2  0.0000        0.0       3.0   \n",
       "2  Aardonyx celestae  0.000000       10.0  0.1875        0.0       0.0   \n",
       "3  Aardonyx celestae  0.000000        0.0  0.1875        0.0       0.0   \n",
       "4  Aardonyx celestae  0.000000        0.0  0.1875        0.0       0.0   \n",
       "\n",
       "   pelvis  hindlimb      total  \n",
       "0     0.0      0.00   0.100000  \n",
       "1     0.0      0.25   3.583333  \n",
       "2     0.0      0.00  10.187500  \n",
       "3     0.0      0.00   0.187500  \n",
       "4     0.0      0.00   0.187500  "
      ]
     },
     "execution_count": 4,
     "metadata": {},
     "output_type": "execute_result"
    }
   ],
   "source": [
    "completeness_df.head()"
   ]
  },
  {
   "cell_type": "code",
   "execution_count": 5,
   "metadata": {},
   "outputs": [
    {
     "name": "stdout",
     "output_type": "stream",
     "text": [
      "<class 'pandas.core.frame.DataFrame'>\n",
      "RangeIndex: 305 entries, 0 to 304\n",
      "Data columns (total 15 columns):\n",
      " #   Column         Non-Null Count  Dtype  \n",
      "---  ------         --------------  -----  \n",
      " 0   main_clade     305 non-null    object \n",
      " 1   sub_clade      305 non-null    object \n",
      " 2   taxa           305 non-null    object \n",
      " 3   year_found     305 non-null    float64\n",
      " 4   completeness   305 non-null    float64\n",
      " 5   hemisphere     305 non-null    object \n",
      " 6   continent      305 non-null    object \n",
      " 7   country        305 non-null    object \n",
      " 8   mod_lat        305 non-null    float64\n",
      " 9   paleo_lat      305 non-null    float64\n",
      " 10  period         305 non-null    object \n",
      " 11  epoch          304 non-null    object \n",
      " 12  max_ma         305 non-null    float64\n",
      " 13  min_ma         305 non-null    float64\n",
      " 14  body_mass_est  156 non-null    float64\n",
      "dtypes: float64(7), object(8)\n",
      "memory usage: 35.9+ KB\n"
     ]
    }
   ],
   "source": [
    "summary_df.info()"
   ]
  },
  {
   "cell_type": "code",
   "execution_count": 6,
   "metadata": {},
   "outputs": [
    {
     "name": "stdout",
     "output_type": "stream",
     "text": [
      "<class 'pandas.core.frame.DataFrame'>\n",
      "RangeIndex: 1139 entries, 0 to 1138\n",
      "Data columns (total 9 columns):\n",
      " #   Column     Non-Null Count  Dtype  \n",
      "---  ------     --------------  -----  \n",
      " 0   taxa       1139 non-null   object \n",
      " 1   skull      1139 non-null   float64\n",
      " 2   vertebrae  1139 non-null   float64\n",
      " 3   ribs       1139 non-null   float64\n",
      " 4   pectorals  1139 non-null   float64\n",
      " 5   forelimb   1139 non-null   float64\n",
      " 6   pelvis     1139 non-null   float64\n",
      " 7   hindlimb   1139 non-null   float64\n",
      " 8   total      1139 non-null   float64\n",
      "dtypes: float64(8), object(1)\n",
      "memory usage: 80.2+ KB\n"
     ]
    }
   ],
   "source": [
    "completeness_df.info()"
   ]
  },
  {
   "cell_type": "markdown",
   "metadata": {},
   "source": [
    "The dataframes look good, but there is a null value in the epoch column of the summary_df that I'd like to fix before moving forward."
   ]
  },
  {
   "cell_type": "code",
   "execution_count": 7,
   "metadata": {},
   "outputs": [
    {
     "data": {
      "text/html": [
       "<div>\n",
       "<style scoped>\n",
       "    .dataframe tbody tr th:only-of-type {\n",
       "        vertical-align: middle;\n",
       "    }\n",
       "\n",
       "    .dataframe tbody tr th {\n",
       "        vertical-align: top;\n",
       "    }\n",
       "\n",
       "    .dataframe thead th {\n",
       "        text-align: right;\n",
       "    }\n",
       "</style>\n",
       "<table border=\"1\" class=\"dataframe\">\n",
       "  <thead>\n",
       "    <tr style=\"text-align: right;\">\n",
       "      <th></th>\n",
       "      <th>main_clade</th>\n",
       "      <th>sub_clade</th>\n",
       "      <th>taxa</th>\n",
       "      <th>year_found</th>\n",
       "      <th>completeness</th>\n",
       "      <th>hemisphere</th>\n",
       "      <th>continent</th>\n",
       "      <th>country</th>\n",
       "      <th>mod_lat</th>\n",
       "      <th>paleo_lat</th>\n",
       "      <th>period</th>\n",
       "      <th>epoch</th>\n",
       "      <th>max_ma</th>\n",
       "      <th>min_ma</th>\n",
       "      <th>body_mass_est</th>\n",
       "    </tr>\n",
       "  </thead>\n",
       "  <tbody>\n",
       "    <tr>\n",
       "      <th>43</th>\n",
       "      <td>Sauropodomorph</td>\n",
       "      <td>Sauropodomorph</td>\n",
       "      <td>Sefapanosaurus zastronensis</td>\n",
       "      <td>2015.0</td>\n",
       "      <td>15.588792</td>\n",
       "      <td>S</td>\n",
       "      <td>Africa</td>\n",
       "      <td>South Africa</td>\n",
       "      <td>-30.299999</td>\n",
       "      <td>-49.42</td>\n",
       "      <td>L. Triassic - E. Jurassic</td>\n",
       "      <td>NaN</td>\n",
       "      <td>227.0</td>\n",
       "      <td>190.8</td>\n",
       "      <td>NaN</td>\n",
       "    </tr>\n",
       "  </tbody>\n",
       "</table>\n",
       "</div>"
      ],
      "text/plain": [
       "        main_clade       sub_clade                         taxa  year_found  \\\n",
       "43  Sauropodomorph  Sauropodomorph  Sefapanosaurus zastronensis      2015.0   \n",
       "\n",
       "    completeness hemisphere continent       country    mod_lat  paleo_lat  \\\n",
       "43     15.588792          S    Africa  South Africa -30.299999     -49.42   \n",
       "\n",
       "                       period epoch  max_ma  min_ma  body_mass_est  \n",
       "43  L. Triassic - E. Jurassic   NaN   227.0   190.8            NaN  "
      ]
     },
     "execution_count": 7,
     "metadata": {},
     "output_type": "execute_result"
    }
   ],
   "source": [
    "summary_df[summary_df.epoch.isnull()]"
   ]
  },
  {
   "cell_type": "markdown",
   "metadata": {},
   "source": [
    "I've found the error - this species spans two epochs. I'm going to replace the period and epoch with the Late Triassic, since that's when the species first appeared."
   ]
  },
  {
   "cell_type": "code",
   "execution_count": 8,
   "metadata": {},
   "outputs": [],
   "source": [
    "summary_df.loc[summary_df['taxa'] == 'Sefapanosaurus zastronensis', 'period'] = 'Triassic'\n",
    "summary_df.loc[summary_df['taxa'] == 'Sefapanosaurus zastronensis', 'epoch'] = 'Late'"
   ]
  },
  {
   "cell_type": "code",
   "execution_count": 9,
   "metadata": {},
   "outputs": [
    {
     "data": {
      "text/plain": [
       "main_clade                    Sauropodomorph\n",
       "sub_clade                     Sauropodomorph\n",
       "taxa             Sefapanosaurus zastronensis\n",
       "year_found                              2015\n",
       "completeness                         15.5888\n",
       "hemisphere                                 S\n",
       "continent                             Africa\n",
       "country                         South Africa\n",
       "mod_lat                                -30.3\n",
       "paleo_lat                             -49.42\n",
       "period                              Triassic\n",
       "epoch                                   Late\n",
       "max_ma                                   227\n",
       "min_ma                                 190.8\n",
       "body_mass_est                            NaN\n",
       "Name: 43, dtype: object"
      ]
     },
     "execution_count": 9,
     "metadata": {},
     "output_type": "execute_result"
    }
   ],
   "source": [
    "summary_df.iloc[43]"
   ]
  },
  {
   "cell_type": "markdown",
   "metadata": {},
   "source": [
    "I've fixed the issue, but I want to make sure there's no more inconsistent data hiding in the period and epoch columns."
   ]
  },
  {
   "cell_type": "code",
   "execution_count": 10,
   "metadata": {},
   "outputs": [
    {
     "data": {
      "text/plain": [
       "Cretaceous    147\n",
       "Jurassic      125\n",
       "Triassic       33\n",
       "Name: period, dtype: int64"
      ]
     },
     "execution_count": 10,
     "metadata": {},
     "output_type": "execute_result"
    }
   ],
   "source": [
    "summary_df.period.value_counts()"
   ]
  },
  {
   "cell_type": "code",
   "execution_count": 11,
   "metadata": {},
   "outputs": [
    {
     "data": {
      "text/plain": [
       "Late      184\n",
       "Early      94\n",
       "Middle     17\n",
       "E-M         4\n",
       "Early       3\n",
       "E-L         3\n",
       "Name: epoch, dtype: int64"
      ]
     },
     "execution_count": 11,
     "metadata": {},
     "output_type": "execute_result"
    }
   ],
   "source": [
    "summary_df.epoch.value_counts()"
   ]
  },
  {
   "cell_type": "markdown",
   "metadata": {},
   "source": [
    "The period values look good, but the epoch values need some cleaning up. I'll replace E-M and E-L with \"Early\", since that's when the species first appeared."
   ]
  },
  {
   "cell_type": "code",
   "execution_count": 12,
   "metadata": {},
   "outputs": [],
   "source": [
    "summary_df.loc[summary_df['epoch'] == 'E-M', 'epoch'] = 'Early'\n",
    "summary_df.loc[summary_df['epoch'] == 'E-L', 'epoch'] = 'Early'"
   ]
  },
  {
   "cell_type": "code",
   "execution_count": 13,
   "metadata": {},
   "outputs": [
    {
     "name": "stdout",
     "output_type": "stream",
     "text": [
      "Late      184\n",
      "Early     101\n",
      "Middle     17\n",
      "Early       3\n",
      "Name: epoch, dtype: int64\n"
     ]
    }
   ],
   "source": [
    "print(summary_df.epoch.value_counts())"
   ]
  },
  {
   "cell_type": "code",
   "execution_count": 14,
   "metadata": {},
   "outputs": [],
   "source": [
    "summary_df.loc[summary_df['epoch'] == 'Early ', 'epoch'] = 'Early'"
   ]
  },
  {
   "cell_type": "code",
   "execution_count": 15,
   "metadata": {},
   "outputs": [
    {
     "name": "stdout",
     "output_type": "stream",
     "text": [
      "Late      184\n",
      "Early     104\n",
      "Middle     17\n",
      "Name: epoch, dtype: int64\n"
     ]
    }
   ],
   "source": [
    "print(summary_df.epoch.value_counts())"
   ]
  },
  {
   "cell_type": "markdown",
   "metadata": {},
   "source": [
    "Since the periods and epochs are ordinal data, I want to change the data type to reflect this."
   ]
  },
  {
   "cell_type": "code",
   "execution_count": 16,
   "metadata": {},
   "outputs": [],
   "source": [
    "summary_df['period'] = pd.Categorical(summary_df['period'], ['Triassic', 'Jurassic', 'Cretaceous'], ordered = True)\n",
    "summary_df['epoch'] = pd.Categorical(summary_df['epoch'], ['Early', 'Middle', 'Late'], ordered = True)"
   ]
  },
  {
   "cell_type": "markdown",
   "metadata": {},
   "source": [
    "I'll also do the same thing for main clade and subclade. It's not as important as for the period and epoch, but if we're starting from basal morphs then we should always see data for the sauropodomorphs first, then the sauropods, and so on."
   ]
  },
  {
   "cell_type": "code",
   "execution_count": 17,
   "metadata": {},
   "outputs": [
    {
     "name": "stdout",
     "output_type": "stream",
     "text": [
      "Macronaria        138\n",
      "Sauropod           66\n",
      "Sauropodomorph     54\n",
      "Diplodocoidea      47\n",
      "Name: main_clade, dtype: int64\n"
     ]
    }
   ],
   "source": [
    "print(summary_df.main_clade.value_counts())"
   ]
  },
  {
   "cell_type": "code",
   "execution_count": 18,
   "metadata": {},
   "outputs": [],
   "source": [
    "summary_df['main_clade'] = pd.Categorical(summary_df['main_clade'], \n",
    "                                          ['Sauropodomorph', 'Sauropod', 'Diplodocoidea', 'Macronaria'], ordered = True)"
   ]
  },
  {
   "cell_type": "code",
   "execution_count": 19,
   "metadata": {},
   "outputs": [
    {
     "name": "stdout",
     "output_type": "stream",
     "text": [
      "Titanosauria       82\n",
      "Sauropod           66\n",
      "Sauropodomorph     54\n",
      "Diplodocoidea      26\n",
      "Somphospondyli     24\n",
      "Macronaria         15\n",
      "Brachiosauridae    10\n",
      "Diplodocinae        7\n",
      "Euhelopodidae       7\n",
      "Apatosaurinae       5\n",
      "Limaysaurinae       5\n",
      "Nigersaurinae       4\n",
      "Name: sub_clade, dtype: int64\n"
     ]
    }
   ],
   "source": [
    "print(summary_df.sub_clade.value_counts())"
   ]
  },
  {
   "cell_type": "code",
   "execution_count": 20,
   "metadata": {},
   "outputs": [],
   "source": [
    "summary_df['sub_clade'] = pd.Categorical(summary_df['sub_clade'],\n",
    "                                         ['Sauropodomorph', 'Sauropod', 'Diplodocoidea', 'Macronaria', \n",
    "                                          'Diplodocinae', 'Limaysaurinae', 'Apatosaurinae', 'Nigersaurinae',\n",
    "                                         'Somphospondyli', 'Brachiosauridae', 'Euhelopodidae', 'Titanosauria'],\n",
    "                                         ordered = True)"
   ]
  },
  {
   "cell_type": "markdown",
   "metadata": {},
   "source": [
    "Now that I've finished reviewing and cleaning up the data types for clades and time periods, I also want to check the values for the other categorical data columns I didn't previously examine - hemisphere, continent, and country"
   ]
  },
  {
   "cell_type": "code",
   "execution_count": 21,
   "metadata": {},
   "outputs": [
    {
     "name": "stdout",
     "output_type": "stream",
     "text": [
      "N    179\n",
      "S    126\n",
      "Name: hemisphere, dtype: int64\n"
     ]
    }
   ],
   "source": [
    "print(summary_df.hemisphere.value_counts())"
   ]
  },
  {
   "cell_type": "code",
   "execution_count": 22,
   "metadata": {},
   "outputs": [
    {
     "name": "stdout",
     "output_type": "stream",
     "text": [
      "South America    88\n",
      "Asia             84\n",
      "Africa           45\n",
      "Europe           42\n",
      "North America    40\n",
      "Australasia       5\n",
      "Antarctica        1\n",
      "Name: continent, dtype: int64\n"
     ]
    }
   ],
   "source": [
    "print(summary_df.continent.value_counts())"
   ]
  },
  {
   "cell_type": "code",
   "execution_count": 23,
   "metadata": {},
   "outputs": [
    {
     "name": "stdout",
     "output_type": "stream",
     "text": [
      "China                             66\n",
      "Argentina                         64\n",
      "USA                               40\n",
      "Brazil                            18\n",
      "South Africa                      13\n",
      "Tanzania                          11\n",
      "England                           10\n",
      "Spain                              9\n",
      "India                              8\n",
      "Australia                          5\n",
      "Germany                            5\n",
      "France                             4\n",
      "Portugal                           4\n",
      "Madagascar                         4\n",
      "Mongolia                           4\n",
      "Russia                             3\n",
      "Morocco                            3\n",
      "Niger                              3\n",
      "Japan                              2\n",
      "Lesotho                            2\n",
      "Malawi                             2\n",
      "Switzerland                        2\n",
      "Argentina / Uruguay                2\n",
      "Thailand                           2\n",
      "Egypt                              2\n",
      "Laos                               1\n",
      "Tunisia                            1\n",
      "Algeria                            1\n",
      "Chile                              1\n",
      "Kyrgyzstan                         1\n",
      "Niger / Egypt                      1\n",
      "Angola                             1\n",
      "Wales                              1\n",
      "Spain / France                     1\n",
      "Columbia                           1\n",
      "Argentia                           1\n",
      "Romania                            1\n",
      "Argentia / Uruguay                 1\n",
      "Antarctica                         1\n",
      "Croatia                            1\n",
      "Zimbabwe                           1\n",
      "Germany / France / Switzerland     1\n",
      "Name: country, dtype: int64\n"
     ]
    }
   ],
   "source": [
    "print(summary_df.country.value_counts())"
   ]
  },
  {
   "cell_type": "markdown",
   "metadata": {},
   "source": [
    "There's a few instances of multiple countries listed in the country column. I'm going to leave the data as is for now, but keep this in mind during any analysis that involves countries.\n",
    "\n",
    "Finally I want to check for null values in the quantitative data columns. Except for the body mass column I don't see any null values in the summary, but I want to be sure there are no hidden null values such as 0.00"
   ]
  },
  {
   "cell_type": "code",
   "execution_count": 24,
   "metadata": {},
   "outputs": [
    {
     "name": "stdout",
     "output_type": "stream",
     "text": [
      "1837.0\n",
      "0.1875\n",
      "-84.333336\n",
      "-64.53\n",
      "70.6\n",
      "66.0\n",
      "1.115545555\n"
     ]
    }
   ],
   "source": [
    "print(summary_df.year_found.min())\n",
    "print(summary_df.completeness.min())\n",
    "print(summary_df.mod_lat.min())\n",
    "print(summary_df.paleo_lat.min())\n",
    "print(summary_df.max_ma.min())\n",
    "print(summary_df.min_ma.min())\n",
    "print(summary_df.body_mass_est.min())"
   ]
  },
  {
   "cell_type": "markdown",
   "metadata": {},
   "source": [
    "This data looks pretty good. The latitude values could have zeros, but zero latitude is a valid position and I know there are no hidden text null values like \"none\" because the data type is float.\n",
    "\n",
    "For the completeness_df, I know that all the float data is correct and there are no null values because I calculated it previously. \n",
    "\n",
    "It's time to move onto analyzing the data to answer the first question."
   ]
  },
  {
   "cell_type": "markdown",
   "metadata": {},
   "source": [
    "## How did size and diversity of sauropodomorphs change throughout the Mezozoic Era?\n",
    "\n",
    "To answer the first part of this question, I will map species body mass estimate against when the species was alive. A scatterplot should work well for this. For the year data, I'll take the average of the max_ma and min_ma."
   ]
  },
  {
   "cell_type": "code",
   "execution_count": 25,
   "metadata": {},
   "outputs": [],
   "source": [
    "x_values = (summary_df[summary_df.body_mass_est.notnull()].max_ma + summary_df[summary_df.body_mass_est.notnull()].min_ma)/2\n",
    "y_values = summary_df[summary_df.body_mass_est.notnull()].body_mass_est"
   ]
  },
  {
   "cell_type": "code",
   "execution_count": 26,
   "metadata": {},
   "outputs": [
    {
     "data": {
      "image/png": "[encoded data removed]",
      "text/plain": [
       "<Figure size 504x504 with 1 Axes>"
      ]
     },
     "metadata": {
      "needs_background": "light"
     },
     "output_type": "display_data"
    },
    {
     "data": {
      "text/plain": [
       "<Figure size 432x288 with 0 Axes>"
      ]
     },
     "metadata": {},
     "output_type": "display_data"
    }
   ],
   "source": [
    "plt.figure(figsize = (7, 7))\n",
    "ax = plt.subplot()\n",
    "plt.scatter(x_values, y_values, alpha = .6)\n",
    "plt.xlabel('Millions of Years Ago')\n",
    "plt.ylabel('Estimated Body Mass in KG')\n",
    "plt.title('Estimated Mass of Sauropodomorphs Over Time')\n",
    "plt.axvline(x = 208)\n",
    "plt.text(205, 60000, 'Jurassic Boundary', rotation = 90)\n",
    "plt.text(143, 60000, 'Cretaceous Boundary', rotation = 90)\n",
    "plt.axvline(x = 146)\n",
    "ax.set_yticks([20000, 40000, 60000, 80000])\n",
    "ax.set_yticklabels(['20K', '40K', '60K', '80K'])\n",
    "ax.invert_xaxis()\n",
    "plt.show()\n",
    "plt.clf()"
   ]
  },
  {
   "cell_type": "markdown",
   "metadata": {},
   "source": [
    "We can see from this plot that both the number of sauropodomorphs and the variation in size increased dramatically from the Triassic to the end of the Cretaceous. But it also looks like there may have been more sauropodomorphs discovered in the Jurassic than the Cretaceous, despite the longer length of the Cretaceous period. It's also important to keep in mind that this graph only includes data from species with an estimated body mass, so about half the recorded species are missing.\n",
    "\n",
    "Next I want to look at the variety and count of species in each clade and subclade over time. To do this, I'll use bar charts."
   ]
  },
  {
   "cell_type": "code",
   "execution_count": 27,
   "metadata": {},
   "outputs": [],
   "source": [
    "main_diversity_df = summary_df.groupby(['period', 'main_clade']).taxa.count().reset_index()\n",
    "sub_diversity_df = summary_df.groupby(['period', 'epoch', 'sub_clade']).taxa.count().reset_index()"
   ]
  },
  {
   "cell_type": "code",
   "execution_count": 32,
   "metadata": {},
   "outputs": [
    {
     "data": {
      "image/png": "[encoded data removed]",
      "text/plain": [
       "<Figure size 1080x360 with 1 Axes>"
      ]
     },
     "metadata": {
      "needs_background": "light"
     },
     "output_type": "display_data"
    },
    {
     "data": {
      "text/plain": [
       "<Figure size 432x288 with 0 Axes>"
      ]
     },
     "metadata": {},
     "output_type": "display_data"
    }
   ],
   "source": [
    "plt.figure(figsize = (15, 5))\n",
    "sns.barplot(x = 'period', y = 'taxa', hue = 'main_clade', data = main_diversity_df)\n",
    "plt.xlabel('Period')\n",
    "plt.ylabel('Total Unique Species')\n",
    "plt.legend(title = 'Main Clade')\n",
    "plt.title('Distribution of Sauropodomorph Species Types')\n",
    "plt.show()\n",
    "plt.clf()"
   ]
  },
  {
   "cell_type": "code",
   "execution_count": 42,
   "metadata": {},
   "outputs": [
    {
     "data": {
      "text/html": [
       "<div>\n",
       "<style scoped>\n",
       "    .dataframe tbody tr th:only-of-type {\n",
       "        vertical-align: middle;\n",
       "    }\n",
       "\n",
       "    .dataframe tbody tr th {\n",
       "        vertical-align: top;\n",
       "    }\n",
       "\n",
       "    .dataframe thead th {\n",
       "        text-align: right;\n",
       "    }\n",
       "</style>\n",
       "<table border=\"1\" class=\"dataframe\">\n",
       "  <thead>\n",
       "    <tr style=\"text-align: right;\">\n",
       "      <th></th>\n",
       "      <th>period</th>\n",
       "      <th>epoch</th>\n",
       "      <th>sub_clade</th>\n",
       "      <th>taxa</th>\n",
       "      <th>period_epoch</th>\n",
       "    </tr>\n",
       "  </thead>\n",
       "  <tbody>\n",
       "    <tr>\n",
       "      <th>64</th>\n",
       "      <td>Jurassic</td>\n",
       "      <td>Late</td>\n",
       "      <td>Diplodocinae</td>\n",
       "      <td>6</td>\n",
       "      <td>Late Jurassic</td>\n",
       "    </tr>\n",
       "    <tr>\n",
       "      <th>66</th>\n",
       "      <td>Jurassic</td>\n",
       "      <td>Late</td>\n",
       "      <td>Apatosaurinae</td>\n",
       "      <td>5</td>\n",
       "      <td>Late Jurassic</td>\n",
       "    </tr>\n",
       "    <tr>\n",
       "      <th>68</th>\n",
       "      <td>Jurassic</td>\n",
       "      <td>Late</td>\n",
       "      <td>Somphospondyli</td>\n",
       "      <td>1</td>\n",
       "      <td>Late Jurassic</td>\n",
       "    </tr>\n",
       "    <tr>\n",
       "      <th>69</th>\n",
       "      <td>Jurassic</td>\n",
       "      <td>Late</td>\n",
       "      <td>Brachiosauridae</td>\n",
       "      <td>5</td>\n",
       "      <td>Late Jurassic</td>\n",
       "    </tr>\n",
       "    <tr>\n",
       "      <th>76</th>\n",
       "      <td>Cretaceous</td>\n",
       "      <td>Early</td>\n",
       "      <td>Diplodocinae</td>\n",
       "      <td>1</td>\n",
       "      <td>Early Cretaceous</td>\n",
       "    </tr>\n",
       "  </tbody>\n",
       "</table>\n",
       "</div>"
      ],
      "text/plain": [
       "        period  epoch        sub_clade  taxa      period_epoch\n",
       "64    Jurassic   Late     Diplodocinae     6     Late Jurassic\n",
       "66    Jurassic   Late    Apatosaurinae     5     Late Jurassic\n",
       "68    Jurassic   Late   Somphospondyli     1     Late Jurassic\n",
       "69    Jurassic   Late  Brachiosauridae     5     Late Jurassic\n",
       "76  Cretaceous  Early     Diplodocinae     1  Early Cretaceous"
      ]
     },
     "execution_count": 42,
     "metadata": {},
     "output_type": "execute_result"
    }
   ],
   "source": [
    "sub_species_diversity_df = sub_diversity_df[~sub_diversity_df.sub_clade.isin(\n",
    "    ['Sauropodomorph', 'Sauropod', 'Diplodocoidea', 'Macronaria'])]\n",
    "sub_species_diversity_df = sub_species_diversity_df[sub_species_diversity_df.taxa != 0]\n",
    "sub_species_diversity_df['period_epoch'] = sub_species_diversity_df.epoch.astype(str) + ' ' + sub_species_diversity_df.period.astype(str)\n",
    "sub_species_diversity_df.head()"
   ]
  },
  {
   "cell_type": "code",
   "execution_count": 48,
   "metadata": {},
   "outputs": [],
   "source": [
    "sub_species_diversity_df['sub_clade'] = pd.Categorical(sub_species_diversity_df['sub_clade'],\n",
    "                                         ['Diplodocinae', 'Limaysaurinae', 'Apatosaurinae', 'Nigersaurinae',\n",
    "                                         'Somphospondyli', 'Brachiosauridae', 'Euhelopodidae', 'Titanosauria'],\n",
    "                                         ordered = True)"
   ]
  },
  {
   "cell_type": "code",
   "execution_count": 49,
   "metadata": {},
   "outputs": [
    {
     "data": {
      "image/png": "[encoded data removed]",
      "text/plain": [
       "<Figure size 1080x360 with 1 Axes>"
      ]
     },
     "metadata": {
      "needs_background": "light"
     },
     "output_type": "display_data"
    },
    {
     "data": {
      "text/plain": [
       "<Figure size 432x288 with 0 Axes>"
      ]
     },
     "metadata": {},
     "output_type": "display_data"
    }
   ],
   "source": [
    "plt.figure(figsize = (15, 5))\n",
    "sns.barplot(x = 'period_epoch', y = 'taxa', hue = 'sub_clade', data = sub_species_diversity_df)\n",
    "plt.xlabel('Period')\n",
    "plt.ylabel('Total Unique Species')\n",
    "plt.legend(title = 'Sub Clade', loc = 2)\n",
    "plt.title('Distribution of Sauropodomorph Species Types')\n",
    "plt.show()\n",
    "plt.clf()"
   ]
  },
  {
   "cell_type": "markdown",
   "metadata": {},
   "source": [
    "Based on these two graphs, we can conclude that sauropodomorph diversity was highest during the Cretaceous period, with most of the subclades only appearing or reaching their height in that period. The Triassic period had the highest number of sauropodomorph species, the most basal of all the clades. Diversity increased during the Jurassic and peaked in the Cretaceous, with the largest number of titanosaurs appearing only in the late Cretaceous.\n",
    "\n",
    "Finally, I'm going to pull a quick calculation for the total number of unique species in each period."
   ]
  },
  {
   "cell_type": "code",
   "execution_count": 50,
   "metadata": {},
   "outputs": [
    {
     "data": {
      "text/html": [
       "<div>\n",
       "<style scoped>\n",
       "    .dataframe tbody tr th:only-of-type {\n",
       "        vertical-align: middle;\n",
       "    }\n",
       "\n",
       "    .dataframe tbody tr th {\n",
       "        vertical-align: top;\n",
       "    }\n",
       "\n",
       "    .dataframe thead th {\n",
       "        text-align: right;\n",
       "    }\n",
       "</style>\n",
       "<table border=\"1\" class=\"dataframe\">\n",
       "  <thead>\n",
       "    <tr style=\"text-align: right;\">\n",
       "      <th></th>\n",
       "      <th>period</th>\n",
       "      <th>taxa</th>\n",
       "    </tr>\n",
       "  </thead>\n",
       "  <tbody>\n",
       "    <tr>\n",
       "      <th>0</th>\n",
       "      <td>Triassic</td>\n",
       "      <td>33</td>\n",
       "    </tr>\n",
       "    <tr>\n",
       "      <th>1</th>\n",
       "      <td>Jurassic</td>\n",
       "      <td>125</td>\n",
       "    </tr>\n",
       "    <tr>\n",
       "      <th>2</th>\n",
       "      <td>Cretaceous</td>\n",
       "      <td>147</td>\n",
       "    </tr>\n",
       "  </tbody>\n",
       "</table>\n",
       "</div>"
      ],
      "text/plain": [
       "       period  taxa\n",
       "0    Triassic    33\n",
       "1    Jurassic   125\n",
       "2  Cretaceous   147"
      ]
     },
     "execution_count": 50,
     "metadata": {},
     "output_type": "execute_result"
    }
   ],
   "source": [
    "species_per_period = summary_df.groupby('period').taxa.count().reset_index()\n",
    "species_per_period"
   ]
  },
  {
   "cell_type": "markdown",
   "metadata": {},
   "source": [
    "Unlike the scatterplot suggested, the Cretaceous had the highest number of unique sauropodomorph species, though not by much. The Jurassic looked like it may have had more species because the similar number of species was grouped into a smaller time period."
   ]
  },
  {
   "cell_type": "markdown",
   "metadata": {},
   "source": [
    "## Which clades of sauropodomorphs do we have the most fossil specimens of?\n",
    "\n",
    "For this question, I'll need to combine the summary_df and the completeness_df."
   ]
  },
  {
   "cell_type": "code",
   "execution_count": 65,
   "metadata": {},
   "outputs": [
    {
     "data": {
      "text/html": [
       "<div>\n",
       "<style scoped>\n",
       "    .dataframe tbody tr th:only-of-type {\n",
       "        vertical-align: middle;\n",
       "    }\n",
       "\n",
       "    .dataframe tbody tr th {\n",
       "        vertical-align: top;\n",
       "    }\n",
       "\n",
       "    .dataframe thead th {\n",
       "        text-align: right;\n",
       "    }\n",
       "</style>\n",
       "<table border=\"1\" class=\"dataframe\">\n",
       "  <thead>\n",
       "    <tr style=\"text-align: right;\">\n",
       "      <th></th>\n",
       "      <th>main_clade</th>\n",
       "      <th>sub_clade</th>\n",
       "      <th>taxa</th>\n",
       "      <th>year_found</th>\n",
       "      <th>completeness</th>\n",
       "      <th>hemisphere</th>\n",
       "      <th>continent</th>\n",
       "      <th>country</th>\n",
       "      <th>mod_lat</th>\n",
       "      <th>paleo_lat</th>\n",
       "      <th>...</th>\n",
       "      <th>min_ma</th>\n",
       "      <th>body_mass_est</th>\n",
       "      <th>skull</th>\n",
       "      <th>vertebrae</th>\n",
       "      <th>ribs</th>\n",
       "      <th>pectorals</th>\n",
       "      <th>forelimb</th>\n",
       "      <th>pelvis</th>\n",
       "      <th>hindlimb</th>\n",
       "      <th>total</th>\n",
       "    </tr>\n",
       "  </thead>\n",
       "  <tbody>\n",
       "    <tr>\n",
       "      <th>0</th>\n",
       "      <td>Sauropodomorph</td>\n",
       "      <td>Sauropodomorph</td>\n",
       "      <td>Aardonyx celestae</td>\n",
       "      <td>2010.0</td>\n",
       "      <td>32.673313</td>\n",
       "      <td>S</td>\n",
       "      <td>Africa</td>\n",
       "      <td>South Africa</td>\n",
       "      <td>-28.466389</td>\n",
       "      <td>-42.64</td>\n",
       "      <td>...</td>\n",
       "      <td>190.8</td>\n",
       "      <td>NaN</td>\n",
       "      <td>0.100000</td>\n",
       "      <td>0.0</td>\n",
       "      <td>0.0000</td>\n",
       "      <td>0.0</td>\n",
       "      <td>0.0</td>\n",
       "      <td>0.0</td>\n",
       "      <td>0.00</td>\n",
       "      <td>0.100000</td>\n",
       "    </tr>\n",
       "    <tr>\n",
       "      <th>1</th>\n",
       "      <td>Sauropodomorph</td>\n",
       "      <td>Sauropodomorph</td>\n",
       "      <td>Aardonyx celestae</td>\n",
       "      <td>2010.0</td>\n",
       "      <td>32.673313</td>\n",
       "      <td>S</td>\n",
       "      <td>Africa</td>\n",
       "      <td>South Africa</td>\n",
       "      <td>-28.466389</td>\n",
       "      <td>-42.64</td>\n",
       "      <td>...</td>\n",
       "      <td>190.8</td>\n",
       "      <td>NaN</td>\n",
       "      <td>0.133333</td>\n",
       "      <td>0.2</td>\n",
       "      <td>0.0000</td>\n",
       "      <td>0.0</td>\n",
       "      <td>3.0</td>\n",
       "      <td>0.0</td>\n",
       "      <td>0.25</td>\n",
       "      <td>3.583333</td>\n",
       "    </tr>\n",
       "    <tr>\n",
       "      <th>2</th>\n",
       "      <td>Sauropodomorph</td>\n",
       "      <td>Sauropodomorph</td>\n",
       "      <td>Aardonyx celestae</td>\n",
       "      <td>2010.0</td>\n",
       "      <td>32.673313</td>\n",
       "      <td>S</td>\n",
       "      <td>Africa</td>\n",
       "      <td>South Africa</td>\n",
       "      <td>-28.466389</td>\n",
       "      <td>-42.64</td>\n",
       "      <td>...</td>\n",
       "      <td>190.8</td>\n",
       "      <td>NaN</td>\n",
       "      <td>0.000000</td>\n",
       "      <td>10.0</td>\n",
       "      <td>0.1875</td>\n",
       "      <td>0.0</td>\n",
       "      <td>0.0</td>\n",
       "      <td>0.0</td>\n",
       "      <td>0.00</td>\n",
       "      <td>10.187500</td>\n",
       "    </tr>\n",
       "    <tr>\n",
       "      <th>3</th>\n",
       "      <td>Sauropodomorph</td>\n",
       "      <td>Sauropodomorph</td>\n",
       "      <td>Aardonyx celestae</td>\n",
       "      <td>2010.0</td>\n",
       "      <td>32.673313</td>\n",
       "      <td>S</td>\n",
       "      <td>Africa</td>\n",
       "      <td>South Africa</td>\n",
       "      <td>-28.466389</td>\n",
       "      <td>-42.64</td>\n",
       "      <td>...</td>\n",
       "      <td>190.8</td>\n",
       "      <td>NaN</td>\n",
       "      <td>0.000000</td>\n",
       "      <td>0.0</td>\n",
       "      <td>0.1875</td>\n",
       "      <td>0.0</td>\n",
       "      <td>0.0</td>\n",
       "      <td>0.0</td>\n",
       "      <td>0.00</td>\n",
       "      <td>0.187500</td>\n",
       "    </tr>\n",
       "    <tr>\n",
       "      <th>4</th>\n",
       "      <td>Sauropodomorph</td>\n",
       "      <td>Sauropodomorph</td>\n",
       "      <td>Aardonyx celestae</td>\n",
       "      <td>2010.0</td>\n",
       "      <td>32.673313</td>\n",
       "      <td>S</td>\n",
       "      <td>Africa</td>\n",
       "      <td>South Africa</td>\n",
       "      <td>-28.466389</td>\n",
       "      <td>-42.64</td>\n",
       "      <td>...</td>\n",
       "      <td>190.8</td>\n",
       "      <td>NaN</td>\n",
       "      <td>0.000000</td>\n",
       "      <td>0.0</td>\n",
       "      <td>0.1875</td>\n",
       "      <td>0.0</td>\n",
       "      <td>0.0</td>\n",
       "      <td>0.0</td>\n",
       "      <td>0.00</td>\n",
       "      <td>0.187500</td>\n",
       "    </tr>\n",
       "  </tbody>\n",
       "</table>\n",
       "<p>5 rows × 23 columns</p>\n",
       "</div>"
      ],
      "text/plain": [
       "       main_clade       sub_clade               taxa  year_found  \\\n",
       "0  Sauropodomorph  Sauropodomorph  Aardonyx celestae      2010.0   \n",
       "1  Sauropodomorph  Sauropodomorph  Aardonyx celestae      2010.0   \n",
       "2  Sauropodomorph  Sauropodomorph  Aardonyx celestae      2010.0   \n",
       "3  Sauropodomorph  Sauropodomorph  Aardonyx celestae      2010.0   \n",
       "4  Sauropodomorph  Sauropodomorph  Aardonyx celestae      2010.0   \n",
       "\n",
       "   completeness hemisphere continent       country    mod_lat  paleo_lat  ...  \\\n",
       "0     32.673313          S    Africa  South Africa -28.466389     -42.64  ...   \n",
       "1     32.673313          S    Africa  South Africa -28.466389     -42.64  ...   \n",
       "2     32.673313          S    Africa  South Africa -28.466389     -42.64  ...   \n",
       "3     32.673313          S    Africa  South Africa -28.466389     -42.64  ...   \n",
       "4     32.673313          S    Africa  South Africa -28.466389     -42.64  ...   \n",
       "\n",
       "  min_ma body_mass_est     skull  vertebrae    ribs  pectorals  forelimb  \\\n",
       "0  190.8           NaN  0.100000        0.0  0.0000        0.0       0.0   \n",
       "1  190.8           NaN  0.133333        0.2  0.0000        0.0       3.0   \n",
       "2  190.8           NaN  0.000000       10.0  0.1875        0.0       0.0   \n",
       "3  190.8           NaN  0.000000        0.0  0.1875        0.0       0.0   \n",
       "4  190.8           NaN  0.000000        0.0  0.1875        0.0       0.0   \n",
       "\n",
       "   pelvis  hindlimb      total  \n",
       "0     0.0      0.00   0.100000  \n",
       "1     0.0      0.25   3.583333  \n",
       "2     0.0      0.00  10.187500  \n",
       "3     0.0      0.00   0.187500  \n",
       "4     0.0      0.00   0.187500  \n",
       "\n",
       "[5 rows x 23 columns]"
      ]
     },
     "execution_count": 65,
     "metadata": {},
     "output_type": "execute_result"
    }
   ],
   "source": [
    "all_data_df = pd.merge(summary_df, completeness_df, how = 'right')\n",
    "all_data_df.head()"
   ]
  },
  {
   "cell_type": "code",
   "execution_count": 79,
   "metadata": {},
   "outputs": [
    {
     "data": {
      "text/plain": [
       "main_clade      sub_clade      \n",
       "Sauropodomorph  Sauropodomorph     346\n",
       "Macronaria      Titanosauria       234\n",
       "Sauropod        Sauropod           206\n",
       "Diplodocoidea   Diplodocoidea       84\n",
       "Macronaria      Macronaria          76\n",
       "                Somphospondyli      49\n",
       "                Brachiosauridae     48\n",
       "Diplodocoidea   Diplodocinae        44\n",
       "                Apatosaurinae       23\n",
       "                Limaysaurinae        5\n",
       "Macronaria      Euhelopodidae        2\n",
       "Diplodocoidea   Nigersaurinae        2\n",
       "dtype: int64"
      ]
     },
     "execution_count": 79,
     "metadata": {},
     "output_type": "execute_result"
    }
   ],
   "source": [
    "all_data_df[['main_clade', 'sub_clade']].value_counts()"
   ]
  },
  {
   "cell_type": "markdown",
   "metadata": {},
   "source": [
    "It looks like we've found the most fossils from the Sauropodomorph clade, followed by the Titanosauria. Which species do we have the most fossils for?"
   ]
  },
  {
   "cell_type": "code",
   "execution_count": 81,
   "metadata": {},
   "outputs": [
    {
     "data": {
      "text/plain": [
       "sub_clade       taxa                            \n",
       "Sauropodomorph  Aardonyx celestae                   175\n",
       "Sauropod        Moabosaurus utahensis                58\n",
       "Sauropodomorph  Sefapanosaurus zastronensis          46\n",
       "Titanosauria    Atsinganosaurus velauciensis         38\n",
       "                Alamosaurus sanjuanensis             26\n",
       "                                                   ... \n",
       "                Austroposeidon magnificus             1\n",
       "Sauropod        Xinjiangtitan shanshanesis            1\n",
       "                Zby atlanticus                        1\n",
       "Diplodocoidea   Amargatitanis macni                   1\n",
       "Titanosauria    Zhuchengtitan zangjiazhuangensis      1\n",
       "Length: 167, dtype: int64"
      ]
     },
     "execution_count": 81,
     "metadata": {},
     "output_type": "execute_result"
    }
   ],
   "source": [
    "all_data_df[['sub_clade', 'taxa']].value_counts()"
   ]
  },
  {
   "cell_type": "markdown",
   "metadata": {},
   "source": [
    "The [Aardonyx celestae](https://www.nhm.ac.uk/discover/dino-directory/aardonyx.html) a sauropodomorph that lived in the early Jurassic, has by far the most found fossil specimens at 175. Interestingly, the titanousar with the most number of fossils found is fourth in the list at just 38 specimens, even though Titanousauria is the clade with the second most fossils found. Probably this is because there are a lot of titanosaur species, as we saw earlier.\n",
    "\n",
    "Finally I want to compute the fossils found per species for each clade and subclade."
   ]
  },
  {
   "cell_type": "code",
   "execution_count": 90,
   "metadata": {},
   "outputs": [],
   "source": [
    "clades_and_fossils_df = all_data_df.groupby(['main_clade', 'sub_clade']).agg(\n",
    "    {'taxa': lambda x: x.nunique(), 'total': lambda x: x.count()}).reset_index()\n",
    "clades_and_fossils_df = clades_and_fossils_df.dropna()"
   ]
  },
  {
   "cell_type": "code",
   "execution_count": 95,
   "metadata": {},
   "outputs": [
    {
     "data": {
      "text/html": [
       "<div>\n",
       "<style scoped>\n",
       "    .dataframe tbody tr th:only-of-type {\n",
       "        vertical-align: middle;\n",
       "    }\n",
       "\n",
       "    .dataframe tbody tr th {\n",
       "        vertical-align: top;\n",
       "    }\n",
       "\n",
       "    .dataframe thead th {\n",
       "        text-align: right;\n",
       "    }\n",
       "</style>\n",
       "<table border=\"1\" class=\"dataframe\">\n",
       "  <thead>\n",
       "    <tr style=\"text-align: right;\">\n",
       "      <th></th>\n",
       "      <th>main_clade</th>\n",
       "      <th>sub_clade</th>\n",
       "      <th>taxa</th>\n",
       "      <th>total</th>\n",
       "      <th>fossils_per_species</th>\n",
       "    </tr>\n",
       "  </thead>\n",
       "  <tbody>\n",
       "    <tr>\n",
       "      <th>0</th>\n",
       "      <td>Sauropodomorph</td>\n",
       "      <td>Sauropodomorph</td>\n",
       "      <td>29.0</td>\n",
       "      <td>346.0</td>\n",
       "      <td>11.931034</td>\n",
       "    </tr>\n",
       "    <tr>\n",
       "      <th>39</th>\n",
       "      <td>Macronaria</td>\n",
       "      <td>Macronaria</td>\n",
       "      <td>7.0</td>\n",
       "      <td>76.0</td>\n",
       "      <td>10.857143</td>\n",
       "    </tr>\n",
       "    <tr>\n",
       "      <th>45</th>\n",
       "      <td>Macronaria</td>\n",
       "      <td>Brachiosauridae</td>\n",
       "      <td>6.0</td>\n",
       "      <td>48.0</td>\n",
       "      <td>8.000000</td>\n",
       "    </tr>\n",
       "    <tr>\n",
       "      <th>26</th>\n",
       "      <td>Diplodocoidea</td>\n",
       "      <td>Diplodocoidea</td>\n",
       "      <td>12.0</td>\n",
       "      <td>84.0</td>\n",
       "      <td>7.000000</td>\n",
       "    </tr>\n",
       "    <tr>\n",
       "      <th>13</th>\n",
       "      <td>Sauropod</td>\n",
       "      <td>Sauropod</td>\n",
       "      <td>31.0</td>\n",
       "      <td>206.0</td>\n",
       "      <td>6.645161</td>\n",
       "    </tr>\n",
       "    <tr>\n",
       "      <th>28</th>\n",
       "      <td>Diplodocoidea</td>\n",
       "      <td>Diplodocinae</td>\n",
       "      <td>7.0</td>\n",
       "      <td>44.0</td>\n",
       "      <td>6.285714</td>\n",
       "    </tr>\n",
       "    <tr>\n",
       "      <th>30</th>\n",
       "      <td>Diplodocoidea</td>\n",
       "      <td>Apatosaurinae</td>\n",
       "      <td>4.0</td>\n",
       "      <td>23.0</td>\n",
       "      <td>5.750000</td>\n",
       "    </tr>\n",
       "    <tr>\n",
       "      <th>29</th>\n",
       "      <td>Diplodocoidea</td>\n",
       "      <td>Limaysaurinae</td>\n",
       "      <td>1.0</td>\n",
       "      <td>5.0</td>\n",
       "      <td>5.000000</td>\n",
       "    </tr>\n",
       "    <tr>\n",
       "      <th>47</th>\n",
       "      <td>Macronaria</td>\n",
       "      <td>Titanosauria</td>\n",
       "      <td>52.0</td>\n",
       "      <td>234.0</td>\n",
       "      <td>4.500000</td>\n",
       "    </tr>\n",
       "    <tr>\n",
       "      <th>44</th>\n",
       "      <td>Macronaria</td>\n",
       "      <td>Somphospondyli</td>\n",
       "      <td>14.0</td>\n",
       "      <td>49.0</td>\n",
       "      <td>3.500000</td>\n",
       "    </tr>\n",
       "    <tr>\n",
       "      <th>31</th>\n",
       "      <td>Diplodocoidea</td>\n",
       "      <td>Nigersaurinae</td>\n",
       "      <td>2.0</td>\n",
       "      <td>2.0</td>\n",
       "      <td>1.000000</td>\n",
       "    </tr>\n",
       "    <tr>\n",
       "      <th>46</th>\n",
       "      <td>Macronaria</td>\n",
       "      <td>Euhelopodidae</td>\n",
       "      <td>2.0</td>\n",
       "      <td>2.0</td>\n",
       "      <td>1.000000</td>\n",
       "    </tr>\n",
       "  </tbody>\n",
       "</table>\n",
       "</div>"
      ],
      "text/plain": [
       "        main_clade        sub_clade  taxa  total  fossils_per_species\n",
       "0   Sauropodomorph   Sauropodomorph  29.0  346.0            11.931034\n",
       "39      Macronaria       Macronaria   7.0   76.0            10.857143\n",
       "45      Macronaria  Brachiosauridae   6.0   48.0             8.000000\n",
       "26   Diplodocoidea    Diplodocoidea  12.0   84.0             7.000000\n",
       "13        Sauropod         Sauropod  31.0  206.0             6.645161\n",
       "28   Diplodocoidea     Diplodocinae   7.0   44.0             6.285714\n",
       "30   Diplodocoidea    Apatosaurinae   4.0   23.0             5.750000\n",
       "29   Diplodocoidea    Limaysaurinae   1.0    5.0             5.000000\n",
       "47      Macronaria     Titanosauria  52.0  234.0             4.500000\n",
       "44      Macronaria   Somphospondyli  14.0   49.0             3.500000\n",
       "31   Diplodocoidea    Nigersaurinae   2.0    2.0             1.000000\n",
       "46      Macronaria    Euhelopodidae   2.0    2.0             1.000000"
      ]
     },
     "execution_count": 95,
     "metadata": {},
     "output_type": "execute_result"
    }
   ],
   "source": [
    "clades_and_fossils_df['fossils_per_species'] = clades_and_fossils_df.total / clades_and_fossils_df.taxa\n",
    "clades_and_fossils_df.sort_values(by = ['fossils_per_species'], ascending = False)"
   ]
  },
  {
   "cell_type": "markdown",
   "metadata": {},
   "source": [
    "Again we can see that the Sauropodomorph clade had the most fossils per species at nearly 12, though if you took away Aardonyx celestae you'd likely have fewer. The Macronaria had the second most fossils per species at almost 11, and the Titanosauria are near the bottom at 4.5. But Titanosauria has the most species at 52, so even with a low fossil count per species there are still a lot of Titanosauria fossils."
   ]
  },
  {
   "cell_type": "markdown",
   "metadata": {},
   "source": [
    "## Has the rate of discovery of species increased or decreased since we identified the first sauropodomorph?\n",
    "\n",
    "For this question I want to look at the year_found column in the summary_df. I'll start with a scatterplot to visualize species discovered per year."
   ]
  },
  {
   "cell_type": "code",
   "execution_count": 96,
   "metadata": {},
   "outputs": [
    {
     "data": {
      "text/html": [
       "<div>\n",
       "<style scoped>\n",
       "    .dataframe tbody tr th:only-of-type {\n",
       "        vertical-align: middle;\n",
       "    }\n",
       "\n",
       "    .dataframe tbody tr th {\n",
       "        vertical-align: top;\n",
       "    }\n",
       "\n",
       "    .dataframe thead th {\n",
       "        text-align: right;\n",
       "    }\n",
       "</style>\n",
       "<table border=\"1\" class=\"dataframe\">\n",
       "  <thead>\n",
       "    <tr style=\"text-align: right;\">\n",
       "      <th></th>\n",
       "      <th>year_found</th>\n",
       "      <th>taxa</th>\n",
       "    </tr>\n",
       "  </thead>\n",
       "  <tbody>\n",
       "    <tr>\n",
       "      <th>0</th>\n",
       "      <td>1837.0</td>\n",
       "      <td>1</td>\n",
       "    </tr>\n",
       "    <tr>\n",
       "      <th>1</th>\n",
       "      <td>1842.0</td>\n",
       "      <td>1</td>\n",
       "    </tr>\n",
       "    <tr>\n",
       "      <th>2</th>\n",
       "      <td>1849.0</td>\n",
       "      <td>1</td>\n",
       "    </tr>\n",
       "    <tr>\n",
       "      <th>3</th>\n",
       "      <td>1852.0</td>\n",
       "      <td>1</td>\n",
       "    </tr>\n",
       "    <tr>\n",
       "      <th>4</th>\n",
       "      <td>1854.0</td>\n",
       "      <td>1</td>\n",
       "    </tr>\n",
       "  </tbody>\n",
       "</table>\n",
       "</div>"
      ],
      "text/plain": [
       "   year_found  taxa\n",
       "0      1837.0     1\n",
       "1      1842.0     1\n",
       "2      1849.0     1\n",
       "3      1852.0     1\n",
       "4      1854.0     1"
      ]
     },
     "execution_count": 96,
     "metadata": {},
     "output_type": "execute_result"
    }
   ],
   "source": [
    "species_per_year_df = summary_df.groupby('year_found').taxa.count().reset_index()\n",
    "species_per_year_df.head()"
   ]
  },
  {
   "cell_type": "code",
   "execution_count": 97,
   "metadata": {},
   "outputs": [
    {
     "data": {
      "image/png": "[encoded data removed]",
      "text/plain": [
       "<Figure size 504x504 with 1 Axes>"
      ]
     },
     "metadata": {
      "needs_background": "light"
     },
     "output_type": "display_data"
    },
    {
     "data": {
      "text/plain": [
       "<Figure size 432x288 with 0 Axes>"
      ]
     },
     "metadata": {},
     "output_type": "display_data"
    }
   ],
   "source": [
    "plt.figure(figsize = (7, 7))\n",
    "ax = plt.subplot()\n",
    "plt.scatter(species_per_year_df.year_found, species_per_year_df.taxa, alpha = .6)\n",
    "plt.xlabel('Year')\n",
    "plt.ylabel('Species Discovered')\n",
    "plt.title('Sauropodomorph Species Discovered per Year')\n",
    "plt.show()\n",
    "plt.clf()"
   ]
  },
  {
   "cell_type": "markdown",
   "metadata": {},
   "source": [
    "It looks like there's been an exponential increase in sauropodomorph species discovery since the first species was discovered in 1837. Especially since the year 2000, the rate of species discovered per year has gone from below 5 to regularly 10 or over."
   ]
  },
  {
   "cell_type": "markdown",
   "metadata": {},
   "source": [
    "## Where did the oldest sauropodomorphs live, and how did they spread across the globe?\n",
    "\n",
    "For this question, I want to count species per continent for each of the three periods, and possibly the epochs as well."
   ]
  },
  {
   "cell_type": "code",
   "execution_count": 107,
   "metadata": {},
   "outputs": [
    {
     "data": {
      "text/html": [
       "<div>\n",
       "<style scoped>\n",
       "    .dataframe tbody tr th:only-of-type {\n",
       "        vertical-align: middle;\n",
       "    }\n",
       "\n",
       "    .dataframe tbody tr th {\n",
       "        vertical-align: top;\n",
       "    }\n",
       "\n",
       "    .dataframe thead th {\n",
       "        text-align: right;\n",
       "    }\n",
       "</style>\n",
       "<table border=\"1\" class=\"dataframe\">\n",
       "  <thead>\n",
       "    <tr style=\"text-align: right;\">\n",
       "      <th></th>\n",
       "      <th>period</th>\n",
       "      <th>epoch</th>\n",
       "      <th>continent</th>\n",
       "      <th>taxa</th>\n",
       "      <th>period_epoch</th>\n",
       "    </tr>\n",
       "  </thead>\n",
       "  <tbody>\n",
       "    <tr>\n",
       "      <th>6</th>\n",
       "      <td>Triassic</td>\n",
       "      <td>Early</td>\n",
       "      <td>South America</td>\n",
       "      <td>1</td>\n",
       "      <td>Early Triassic</td>\n",
       "    </tr>\n",
       "    <tr>\n",
       "      <th>14</th>\n",
       "      <td>Triassic</td>\n",
       "      <td>Late</td>\n",
       "      <td>Africa</td>\n",
       "      <td>7</td>\n",
       "      <td>Late Triassic</td>\n",
       "    </tr>\n",
       "    <tr>\n",
       "      <th>16</th>\n",
       "      <td>Triassic</td>\n",
       "      <td>Late</td>\n",
       "      <td>Asia</td>\n",
       "      <td>2</td>\n",
       "      <td>Late Triassic</td>\n",
       "    </tr>\n",
       "    <tr>\n",
       "      <th>18</th>\n",
       "      <td>Triassic</td>\n",
       "      <td>Late</td>\n",
       "      <td>Europe</td>\n",
       "      <td>9</td>\n",
       "      <td>Late Triassic</td>\n",
       "    </tr>\n",
       "    <tr>\n",
       "      <th>20</th>\n",
       "      <td>Triassic</td>\n",
       "      <td>Late</td>\n",
       "      <td>South America</td>\n",
       "      <td>14</td>\n",
       "      <td>Late Triassic</td>\n",
       "    </tr>\n",
       "  </tbody>\n",
       "</table>\n",
       "</div>"
      ],
      "text/plain": [
       "      period  epoch      continent  taxa    period_epoch\n",
       "6   Triassic  Early  South America     1  Early Triassic\n",
       "14  Triassic   Late         Africa     7   Late Triassic\n",
       "16  Triassic   Late           Asia     2   Late Triassic\n",
       "18  Triassic   Late         Europe     9   Late Triassic\n",
       "20  Triassic   Late  South America    14   Late Triassic"
      ]
     },
     "execution_count": 107,
     "metadata": {},
     "output_type": "execute_result"
    }
   ],
   "source": [
    "species_per_continent = summary_df.groupby(['period', 'epoch', 'continent']).taxa.count().reset_index()\n",
    "species_per_continent = species_per_continent[species_per_continent.taxa != 0]\n",
    "species_per_continent['period_epoch'] = species_per_continent.epoch.astype(str) + ' ' + species_per_continent.period.astype(str)\n",
    "species_per_continent.head()"
   ]
  },
  {
   "cell_type": "code",
   "execution_count": 108,
   "metadata": {},
   "outputs": [
    {
     "data": {
      "image/png": "[encoded data removed]",
      "text/plain": [
       "<Figure size 1080x360 with 1 Axes>"
      ]
     },
     "metadata": {
      "needs_background": "light"
     },
     "output_type": "display_data"
    },
    {
     "data": {
      "text/plain": [
       "<Figure size 432x288 with 0 Axes>"
      ]
     },
     "metadata": {},
     "output_type": "display_data"
    }
   ],
   "source": [
    "plt.figure(figsize = (15, 5))\n",
    "sns.barplot(x = 'period_epoch', y = 'taxa', hue = 'continent', data = species_per_continent)\n",
    "plt.xlabel('Period')\n",
    "plt.ylabel('Total Unique Species')\n",
    "plt.legend(title = 'Continent', loc = 2)\n",
    "plt.title('Distribution of Sauropodomorph Location')\n",
    "plt.show()\n",
    "plt.clf()"
   ]
  },
  {
   "cell_type": "markdown",
   "metadata": {},
   "source": [
    "Breaking things down into epoch was really helpful here. I can see that the earliest known sauropodomorph was found in South America in the early Triassic. The sauropodomorphs then spread further across South America and into Africa, Asia, and Europe. They didn't appear in the rest of the continents until the Jurassic period, and were most present in Asia and North America during the Jurassic.\n",
    "\n",
    "There was a resurgence in sauropodomorph diversity in South America in the Cretaceous. I've read that most titanosaurs have been found in South America, so it makes sense that we'd see a big jump in South American sauropodomorphs along with the jump in titanosaur species."
   ]
  },
  {
   "cell_type": "markdown",
   "metadata": {},
   "source": [
    "## What bones are the most likely to fossilize, based on the fossil specimens we have found so far?\n",
    "\n",
    "For this final question, I'll be looking at the completeness_df, which lists fossils found based on location in the skeleton. The data is for body completeness, so there are two ways to work with it. The first is counting the instances, which should reveal the number of individual, say, rib bones found for sauropodomorph species. The second is to sum the values, which will reveal the level of completeness of skeleton for each fossil type."
   ]
  },
  {
   "cell_type": "code",
   "execution_count": 109,
   "metadata": {},
   "outputs": [
    {
     "data": {
      "text/html": [
       "<div>\n",
       "<style scoped>\n",
       "    .dataframe tbody tr th:only-of-type {\n",
       "        vertical-align: middle;\n",
       "    }\n",
       "\n",
       "    .dataframe tbody tr th {\n",
       "        vertical-align: top;\n",
       "    }\n",
       "\n",
       "    .dataframe thead th {\n",
       "        text-align: right;\n",
       "    }\n",
       "</style>\n",
       "<table border=\"1\" class=\"dataframe\">\n",
       "  <thead>\n",
       "    <tr style=\"text-align: right;\">\n",
       "      <th></th>\n",
       "      <th>taxa</th>\n",
       "      <th>skull</th>\n",
       "      <th>vertebrae</th>\n",
       "      <th>ribs</th>\n",
       "      <th>pectorals</th>\n",
       "      <th>forelimb</th>\n",
       "      <th>pelvis</th>\n",
       "      <th>hindlimb</th>\n",
       "      <th>total</th>\n",
       "    </tr>\n",
       "  </thead>\n",
       "  <tbody>\n",
       "    <tr>\n",
       "      <th>0</th>\n",
       "      <td>Aardonyx celestae</td>\n",
       "      <td>0.100000</td>\n",
       "      <td>0.0</td>\n",
       "      <td>0.0000</td>\n",
       "      <td>0.0</td>\n",
       "      <td>0.0</td>\n",
       "      <td>0.0</td>\n",
       "      <td>0.00</td>\n",
       "      <td>0.100000</td>\n",
       "    </tr>\n",
       "    <tr>\n",
       "      <th>1</th>\n",
       "      <td>Aardonyx celestae</td>\n",
       "      <td>0.133333</td>\n",
       "      <td>0.2</td>\n",
       "      <td>0.0000</td>\n",
       "      <td>0.0</td>\n",
       "      <td>3.0</td>\n",
       "      <td>0.0</td>\n",
       "      <td>0.25</td>\n",
       "      <td>3.583333</td>\n",
       "    </tr>\n",
       "    <tr>\n",
       "      <th>2</th>\n",
       "      <td>Aardonyx celestae</td>\n",
       "      <td>0.000000</td>\n",
       "      <td>10.0</td>\n",
       "      <td>0.1875</td>\n",
       "      <td>0.0</td>\n",
       "      <td>0.0</td>\n",
       "      <td>0.0</td>\n",
       "      <td>0.00</td>\n",
       "      <td>10.187500</td>\n",
       "    </tr>\n",
       "    <tr>\n",
       "      <th>3</th>\n",
       "      <td>Aardonyx celestae</td>\n",
       "      <td>0.000000</td>\n",
       "      <td>0.0</td>\n",
       "      <td>0.1875</td>\n",
       "      <td>0.0</td>\n",
       "      <td>0.0</td>\n",
       "      <td>0.0</td>\n",
       "      <td>0.00</td>\n",
       "      <td>0.187500</td>\n",
       "    </tr>\n",
       "    <tr>\n",
       "      <th>4</th>\n",
       "      <td>Aardonyx celestae</td>\n",
       "      <td>0.000000</td>\n",
       "      <td>0.0</td>\n",
       "      <td>0.1875</td>\n",
       "      <td>0.0</td>\n",
       "      <td>0.0</td>\n",
       "      <td>0.0</td>\n",
       "      <td>0.00</td>\n",
       "      <td>0.187500</td>\n",
       "    </tr>\n",
       "  </tbody>\n",
       "</table>\n",
       "</div>"
      ],
      "text/plain": [
       "                taxa     skull  vertebrae    ribs  pectorals  forelimb  \\\n",
       "0  Aardonyx celestae  0.100000        0.0  0.0000        0.0       0.0   \n",
       "1  Aardonyx celestae  0.133333        0.2  0.0000        0.0       3.0   \n",
       "2  Aardonyx celestae  0.000000       10.0  0.1875        0.0       0.0   \n",
       "3  Aardonyx celestae  0.000000        0.0  0.1875        0.0       0.0   \n",
       "4  Aardonyx celestae  0.000000        0.0  0.1875        0.0       0.0   \n",
       "\n",
       "   pelvis  hindlimb      total  \n",
       "0     0.0      0.00   0.100000  \n",
       "1     0.0      0.25   3.583333  \n",
       "2     0.0      0.00  10.187500  \n",
       "3     0.0      0.00   0.187500  \n",
       "4     0.0      0.00   0.187500  "
      ]
     },
     "execution_count": 109,
     "metadata": {},
     "output_type": "execute_result"
    }
   ],
   "source": [
    "completeness_df.head()"
   ]
  },
  {
   "cell_type": "code",
   "execution_count": 120,
   "metadata": {},
   "outputs": [
    {
     "data": {
      "text/plain": [
       "['skull', 'vertebrae', 'ribs', 'pectorals', 'forelimb', 'pelvis', 'hindlimb']"
      ]
     },
     "execution_count": 120,
     "metadata": {},
     "output_type": "execute_result"
    }
   ],
   "source": [
    "types = list(completeness_df)\n",
    "types = types[1:8]\n",
    "types"
   ]
  },
  {
   "cell_type": "markdown",
   "metadata": {},
   "source": [
    "Now I'll calculate the sum of all percentages for each skeleton type"
   ]
  },
  {
   "cell_type": "code",
   "execution_count": 129,
   "metadata": {},
   "outputs": [
    {
     "name": "stdout",
     "output_type": "stream",
     "text": [
      "skull: 999.06\n",
      "vertebrae: 8321.43\n",
      "ribs: 1081.53\n",
      "pectorals: 925.77\n",
      "forelimb: 2120.26\n",
      "pelvis: 1396.72\n",
      "hindlimb: 2332.57\n"
     ]
    }
   ],
   "source": [
    "for type in types:\n",
    "    print(type + ': ' + str(round(completeness_df[type].sum(),2)))"
   ]
  },
  {
   "cell_type": "markdown",
   "metadata": {},
   "source": [
    "In terms of total percentage sum, we have the most fossils of vertebrae. Now I want to see if we've also found the most vertebrae as opposed to other skeleton parts by count."
   ]
  },
  {
   "cell_type": "code",
   "execution_count": 130,
   "metadata": {},
   "outputs": [
    {
     "name": "stdout",
     "output_type": "stream",
     "text": [
      "skull: 318\n",
      "vertebrae: 756\n",
      "ribs: 422\n",
      "pectorals: 378\n",
      "forelimb: 442\n",
      "pelvis: 446\n",
      "hindlimb: 521\n"
     ]
    }
   ],
   "source": [
    "for type in types:\n",
    "    print(type + ': ' + str(completeness_df[type].astype(bool).sum(axis = 0)))"
   ]
  },
  {
   "cell_type": "markdown",
   "metadata": {},
   "source": [
    "We have also found the most vertebrae out of any kind of skeleton type. For a creature as long as a sauropod, this makes sense. There are a lot of vertebrae!"
   ]
  },
  {
   "cell_type": "markdown",
   "metadata": {},
   "source": [
    "## Conclusion"
   ]
  },
  {
   "cell_type": "markdown",
   "metadata": {},
   "source": [
    "These are the questions I answered with my data analysis for this final project:\n",
    "\n",
    "- How did size and diversity of sauropodomorphs change throughout the Mezozoic Era?\n",
    "\n",
    "The earliest sauropodomorphs in the Triassic Period were small and did not have much variation in body size or diversity. The most common clade was the basal Sauropodomorph, with only a few true sauropods.\n",
    "\n",
    "In the Jurassic, sauropodomorphs exploded in diversity in both clade and body mass. Though there were still many sauropodomorphs around, there were many more sauropods in the Jurassic Period and we also started to see members of the Diplodocoidea and Macronaria clades, which gave rise to some of the most well-known species of sauropod.\n",
    "\n",
    "In the Cretaceous Period we saw the greatest diveristy of sauropodomorphs, both in body size and clade. In the early Cretaceous members of the Titanosauria clade first appeared, and by the late Cretaceous these were the most successful group of sauropodomorphs. The more basal Sauropodomorph clade disappeared entirely in the Cretaceous.\n",
    "\n",
    "- Which clades of sauropodomorphs do we have the most fossil specimens of?\n",
    "\n",
    "The [Aardonyx celestae](https://www.nhm.ac.uk/discover/dino-directory/aardonyx.html) a Sauropodomorph that lived in the early Jurassic, has by far the most found fossil specimens at 175. This also makes Sauropodomorphs the clade with the most fossil speciems overall at 346. In second place are the Titanosauria at 234. The Titanosauria's high numbers are not due to a large number of fossil specimens from one species, but from a decent number of fossil specimens from many different species.\n",
    "\n",
    "- Has the rate of discovery of species increased or decreased since we identified the first sauropodomorph?\n",
    "\n",
    "The rate of discovery of new sauropodomorph species has increased dramatically since we identified the first sauropodomorph in 1837. Especially since the year 2000, the rate of species discovered per year has gone from below 5 to regularly 10 or over.\n",
    "\n",
    "- Where did the oldest sauropodomorphs live, and how did they spread across the globe?\n",
    "\n",
    "The oldest sauropodomorph found was a single species of Sauropodomorph living in South America in the early Triassic. In the late Triassic, sauropodomorphs spread out further across South America and into Asia, Africa, and Europe. \n",
    "\n",
    "During the Jurassic Period, sauropodomorphs arrived in North America and were most prevalent there, along with Asia. Then in the Cretaceous there was a big resurgence of sauropodomorphs in South America, especially during the late Cretaceous. I did not verify this with the data, but I have read that most Titanosauria have been found in South America, so it seems likely that the surge in species count during this time is because of the surge in Titanosauria species.\n",
    "\n",
    "- What bones are the most likely to fossilize, based on the fossil specimens we have found so far?\n",
    "\n",
    "Based on the fossil specimens we have found so far, vertebrae (spine bones) are the most likely to fossilize and/or the most likely to be discovered. Of the fossil specimens recorded in the data, 756 were vertebrae. That's 23% of all the fossil specimens recorded. "
   ]
  },
  {
   "cell_type": "markdown",
   "metadata": {},
   "source": [
    "## Next Steps\n",
    "\n",
    "This data was a lot of fun to work with, and there's much more that we can do from here:\n",
    "\n",
    "- Combine this data with data from other types of dinosaurs, such as theropods.\n",
    "- Analyze if there is a relationship between estimated body mass and skeleton completeness (do larger dinosaurs make better fossils?)\n",
    "- I didn't use it here, but in addition to modern and paleo latitude the summary sheet included in the initial data also had columns for modern and paleo longitude. This could be used to graph the spread of sauropodomorphs on a map.\n",
    "- Break out location data by subclade or even taxa. Were there really more titanosaurs in South America?"
   ]
  },
  {
   "cell_type": "code",
   "execution_count": null,
   "metadata": {},
   "outputs": [],
   "source": []
  }
 ],
 "metadata": {
  "kernelspec": {
   "display_name": "Python 3",
   "language": "python",
   "name": "python3"
  },
  "language_info": {
   "codemirror_mode": {
    "name": "ipython",
    "version": 3
   },
   "file_extension": ".py",
   "mimetype": "text/x-python",
   "name": "python",
   "nbconvert_exporter": "python",
   "pygments_lexer": "ipython3",
   "version": "3.8.5"
  }
 },
 "nbformat": 4,
 "nbformat_minor": 4
}
